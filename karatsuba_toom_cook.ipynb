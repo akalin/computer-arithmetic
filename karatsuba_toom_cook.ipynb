{
  "metadata": {
    "language_info": {
      "codemirror_mode": {
        "name": "python",
        "version": 3
      },
      "file_extension": ".py",
      "mimetype": "text/x-python",
      "name": "python",
      "nbconvert_exporter": "python",
      "pygments_lexer": "ipython3",
      "version": "3.8"
    },
    "kernelspec": {
      "name": "python",
      "display_name": "Python (Pyodide)",
      "language": "python"
    }
  },
  "nbformat_minor": 4,
  "nbformat": 4,
  "cells": [
    {
      "cell_type": "code",
      "source": "12 * 34",
      "metadata": {
        "trusted": true
      },
      "execution_count": 1,
      "outputs": [
        {
          "execution_count": 1,
          "output_type": "execute_result",
          "data": {
            "text/plain": "408"
          },
          "metadata": {}
        }
      ]
    },
    {
      "cell_type": "code",
      "source": "(2 + 1*10) * (4 + 3*10)",
      "metadata": {
        "trusted": true
      },
      "execution_count": 2,
      "outputs": [
        {
          "execution_count": 2,
          "output_type": "execute_result",
          "data": {
            "text/plain": "408"
          },
          "metadata": {}
        }
      ]
    },
    {
      "cell_type": "code",
      "source": "from sympy import poly\nfrom sympy.abc import x\n\npoly(2 + 1*x) * poly(4 + 3*x)",
      "metadata": {
        "trusted": true
      },
      "execution_count": 3,
      "outputs": [
        {
          "execution_count": 3,
          "output_type": "execute_result",
          "data": {
            "text/plain": "Poly(3*x**2 + 10*x + 8, x, domain='ZZ')",
            "text/latex": "$\\displaystyle \\operatorname{Poly}{\\left( 3 x^{2} + 10 x + 8, x, domain=\\mathbb{Z} \\right)}$"
          },
          "metadata": {}
        }
      ]
    },
    {
      "cell_type": "code",
      "source": "# a and b are lists of polynomial coefficients, with a[i] being the coefficient of x**i.\ndef schoolbook_mult_2x2_poly(a, b):\n    c = [0] * 3\n    c[0] = a[0] * b[0]\n    c[1] = a[1] * b[0] + a[0] * b[1]\n    c[2] = a[1] * b[1]\n    return c",
      "metadata": {
        "trusted": true
      },
      "execution_count": 4,
      "outputs": []
    },
    {
      "cell_type": "code",
      "source": "schoolbook_mult_2x2_poly([2, 1], [4, 3])",
      "metadata": {
        "trusted": true
      },
      "execution_count": 5,
      "outputs": [
        {
          "execution_count": 5,
          "output_type": "execute_result",
          "data": {
            "text/plain": "[8, 10, 3]"
          },
          "metadata": {}
        }
      ]
    },
    {
      "cell_type": "code",
      "source": "def karatsuba_mult_poly(a, b):\n    c = [0] * 3\n    c[0] = a[0] * b[0]\n    c[2] = a[1] * b[1]\n    t = (a[0] + a[1]) * (b[0] + b[1])\n    c[1] = t - c[0] - c[2]\n    return c",
      "metadata": {
        "trusted": true
      },
      "execution_count": 6,
      "outputs": []
    },
    {
      "cell_type": "code",
      "source": "karatsuba_mult_poly([2, 1], [4, 3])",
      "metadata": {
        "trusted": true
      },
      "execution_count": 7,
      "outputs": [
        {
          "execution_count": 7,
          "output_type": "execute_result",
          "data": {
            "text/plain": "[8, 10, 3]"
          },
          "metadata": {}
        }
      ]
    },
    {
      "cell_type": "code",
      "source": "def karatsuba_mult_poly_alt(a, b):\n    c = [0] * 3\n    c[0] = a[0] * b[0]\n    c[2] = a[1] * b[1]\n    s_a = +1 if a[0] > a[1] else -1\n    s_b = +1 if b[0] > b[1] else -1\n    t = abs(a[0] - a[1]) * abs(b[0] - b[1])\n    c[1] = c[0] + c[2] - s_a * s_b * t\n    return c",
      "metadata": {
        "trusted": true
      },
      "execution_count": 8,
      "outputs": []
    },
    {
      "cell_type": "code",
      "source": "karatsuba_mult_poly_alt([2, 1], [4, 3])",
      "metadata": {
        "trusted": true
      },
      "execution_count": 9,
      "outputs": [
        {
          "execution_count": 9,
          "output_type": "execute_result",
          "data": {
            "text/plain": "[8, 10, 3]"
          },
          "metadata": {}
        }
      ]
    },
    {
      "cell_type": "code",
      "source": "123 * 456",
      "metadata": {
        "trusted": true
      },
      "execution_count": 10,
      "outputs": [
        {
          "execution_count": 10,
          "output_type": "execute_result",
          "data": {
            "text/plain": "56088"
          },
          "metadata": {}
        }
      ]
    },
    {
      "cell_type": "code",
      "source": "def schoolbook_mult3x3_poly(a, b):\n    c = [0] * 5\n    c[0] = a[0] * b[0]\n    c[1] = a[1] * b[0] + a[0] * b[1]\n    c[2] = a[2] * b[0] + a[1] * b[1] + a[0] * b[2]\n    c[3] = a[2] * b[1] + a[1] * b[2]\n    c[4] = a[2] * b[2]\n    return c",
      "metadata": {
        "trusted": true
      },
      "execution_count": 11,
      "outputs": []
    },
    {
      "cell_type": "code",
      "source": "schoolbook_mult3x3_poly([3, 2, 1], [6, 5, 4])",
      "metadata": {
        "trusted": true
      },
      "execution_count": 12,
      "outputs": [
        {
          "execution_count": 12,
          "output_type": "execute_result",
          "data": {
            "text/plain": "[18, 27, 28, 13, 4]"
          },
          "metadata": {}
        }
      ]
    },
    {
      "cell_type": "code",
      "source": "from sympy import solve\nfrom sympy.matrices import Matrix\n\ndef poly_from_coeffs(coeffs):\n    return poly(sum(c * (x**i) for i, c in enumerate(coeffs)))\n\ndef lagrange_interpolate_deg4(points):\n    (x0, y0), (x1, y1), (x2, y2), (x3, y3), (x4, y4) = points\n    A = Matrix([\n        [x0**0, x0**1, x0**2, x0**3, x0**4],\n        [x1**0, x1**1, x1**2, x1**3, x1**4],\n        [x2**0, x2**1, x2**2, x2**3, x2**4],\n        [x3**0, x3**1, x3**2, x3**3, x3**4],\n        [x4**0, x4**1, x4**2, x4**3, x4**4],\n    ])\n    b = Matrix([y0, y1, y2, y3, y4])\n    coeffs = A.solve(b)\n    return poly_from_coeffs(coeffs)",
      "metadata": {
        "trusted": true
      },
      "execution_count": 13,
      "outputs": []
    },
    {
      "cell_type": "code",
      "source": "lagrange_interpolate_deg4([(0, 5), (1, 6), (2, 21), (3, 86), (4, 261)])",
      "metadata": {
        "trusted": true
      },
      "execution_count": 14,
      "outputs": [
        {
          "execution_count": 14,
          "output_type": "execute_result",
          "data": {
            "text/plain": "Poly(x**4 + 5, x, domain='ZZ')",
            "text/latex": "$\\displaystyle \\operatorname{Poly}{\\left( x^{4} + 5, x, domain=\\mathbb{Z} \\right)}$"
          },
          "metadata": {}
        }
      ]
    },
    {
      "cell_type": "code",
      "source": "lagrange_interpolate_deg4([(1, 1), (2, 2), (3, 3), (4, 4), (5, 5)])",
      "metadata": {
        "trusted": true
      },
      "execution_count": 15,
      "outputs": [
        {
          "execution_count": 15,
          "output_type": "execute_result",
          "data": {
            "text/plain": "Poly(x, x, domain='ZZ')",
            "text/latex": "$\\displaystyle \\operatorname{Poly}{\\left( x, x, domain=\\mathbb{Z} \\right)}$"
          },
          "metadata": {}
        }
      ]
    },
    {
      "cell_type": "code",
      "source": "def toom_cook_mult3x3_poly_v0(a, b):\n    xs = [-2, -1, 0, 1, 2]\n    axs = [poly_from_coeffs(a).eval(x) for x in xs]\n    bxs = [poly_from_coeffs(b).eval(x) for x in xs]\n    cxs = [ax * bx for ax, bx in zip(axs, bxs)]\n    \n    return lagrange_interpolate_deg4(zip(xs, cxs)).all_coeffs()",
      "metadata": {
        "trusted": true
      },
      "execution_count": 16,
      "outputs": []
    },
    {
      "cell_type": "code",
      "source": "toom_cook_mult3x3_poly_v0([3, 2, 1], [6, 5, 4])",
      "metadata": {
        "trusted": true
      },
      "execution_count": 17,
      "outputs": [
        {
          "execution_count": 17,
          "output_type": "execute_result",
          "data": {
            "text/plain": "[4, 13, 28, 27, 18]"
          },
          "metadata": {}
        }
      ]
    },
    {
      "cell_type": "code",
      "source": "def lagrange_interpolate_coeffs_deg4_with_leading_term(points, c4):\n    (x0, y0), (x1, y1), (x2, y2), (x3, y3) = points\n    A = Matrix([\n        [x0**0, x0**1, x0**2, x0**3, x0**4],\n        [x1**0, x1**1, x1**2, x1**3, x1**4],\n        [x2**0, x2**1, x2**2, x2**3, x2**4],\n        [x3**0, x3**1, x3**2, x3**3, x3**4],\n        [0, 0, 0, 0, 1],\n    ])\n    b = Matrix([y0, y1, y2, y3, c4])\n    return A.solve(b)\n\ndef toom_cook_mult3x3_poly_v1(a, b):\n    xs = [-1, 0, 1, 2]\n    axs = [poly_from_coeffs(a).eval(x) for x in xs]\n    bxs = [poly_from_coeffs(b).eval(x) for x in xs]\n    cxs = [ax * bx for ax, bx in zip(axs, bxs)]\n    c4 = a[2] * b[2]\n    \n    return lagrange_interpolate_coeffs_deg4_with_leading_term(zip(xs, cxs), c4)",
      "metadata": {
        "trusted": true
      },
      "execution_count": 18,
      "outputs": []
    },
    {
      "cell_type": "code",
      "source": "toom_cook_mult3x3_poly_v1([3, 2, 1], [6, 5, 4])",
      "metadata": {
        "trusted": true
      },
      "execution_count": 19,
      "outputs": [
        {
          "execution_count": 19,
          "output_type": "execute_result",
          "data": {
            "text/plain": "Matrix([\n[18],\n[27],\n[28],\n[13],\n[ 4]])",
            "text/latex": "$\\displaystyle \\left[\\begin{matrix}18\\\\27\\\\28\\\\13\\\\4\\end{matrix}\\right]$"
          },
          "metadata": {}
        }
      ]
    },
    {
      "cell_type": "code",
      "source": "def toom_cook_mult3x3_poly_v2(a, b):\n    a_n1 = a[0] - a[1] + a[2]\n    b_n1 = b[0] - b[1] + b[2]\n    a_0 = a[0]\n    b_0 = b[0]\n    a_1 = a[0] + a[1] + a[2]\n    b_1 = b[0] + b[1] + b[2]\n    a_2 = a[0] + 2*a[1] + 4*a[2]\n    b_2 = b[0] + 2*b[1] + 4*b[2]\n    \n    c_n1 = a_n1 * b_n1\n    c_0 = a_0 * b_0\n    c_1 = a_1 * b_1\n    c_2 = a_2 * b_2\n    \n    c4 = a[2] * b[2]\n    \n    return lagrange_interpolate_coeffs_deg4_with_leading_term([(-1, c_n1), (0, c_0), (1, c_1), (2, c_2)], c4)",
      "metadata": {
        "trusted": true
      },
      "execution_count": 20,
      "outputs": []
    },
    {
      "cell_type": "code",
      "source": "toom_cook_mult3x3_poly_v2([3, 2, 1], [6, 5, 4])",
      "metadata": {
        "trusted": true
      },
      "execution_count": 21,
      "outputs": [
        {
          "execution_count": 21,
          "output_type": "execute_result",
          "data": {
            "text/plain": "Matrix([\n[18],\n[27],\n[28],\n[13],\n[ 4]])",
            "text/latex": "$\\displaystyle \\left[\\begin{matrix}18\\\\27\\\\28\\\\13\\\\4\\end{matrix}\\right]$"
          },
          "metadata": {}
        }
      ]
    },
    {
      "cell_type": "code",
      "source": "def lagrange_interpolate_coeffs_at_n1_0_1_2_with_leading_term_v0(y_n1, y0, y1, y2, c4):\n    A = Matrix([\n        [1, -1, 1, -1, 1],\n        [1, 0, 0, 0, 0],\n        [1, 1, 1, 1, 1],\n        [1, 2, 4, 8, 16],\n        [0, 0, 0, 0, 1],\n    ])\n    b = Matrix([y_n1, y0, y1, y2, c4])\n    return A.solve(b)\n\ndef toom_cook_mult3x3_poly_v3(a, b):\n    a_n1 = a[0] - a[1] + a[2]\n    b_n1 = b[0] - b[1] + b[2]\n    a_0 = a[0]\n    b_0 = b[0]\n    a_1 = a[0] + a[1] + a[2]\n    b_1 = b[0] + b[1] + b[2]\n    a_2 = a[0] + 2*a[1] + 4*a[2]\n    b_2 = b[0] + 2*b[1] + 4*b[2]\n    \n    c_n1 = a_n1 * b_n1\n    c_0 = a_0 * b_0\n    c_1 = a_1 * b_1\n    c_2 = a_2 * b_2\n    \n    c4 = a[2] * b[2]\n    \n    return lagrange_interpolate_coeffs_at_n1_0_1_2_with_leading_term_v0(c_n1, c_0, c_1, c_2, c4)",
      "metadata": {
        "trusted": true
      },
      "execution_count": 22,
      "outputs": []
    },
    {
      "cell_type": "code",
      "source": "toom_cook_mult3x3_poly_v3([3, 2, 1], [6, 5, 4])",
      "metadata": {
        "trusted": true
      },
      "execution_count": 23,
      "outputs": [
        {
          "execution_count": 23,
          "output_type": "execute_result",
          "data": {
            "text/plain": "Matrix([\n[18],\n[27],\n[28],\n[13],\n[ 4]])",
            "text/latex": "$\\displaystyle \\left[\\begin{matrix}18\\\\27\\\\28\\\\13\\\\4\\end{matrix}\\right]$"
          },
          "metadata": {}
        }
      ]
    },
    {
      "cell_type": "code",
      "source": "A = Matrix([\n    [1, -1, 1, -1, 1],\n    [1, 0, 0, 0, 0],\n    [1, 1, 1, 1, 1],\n    [1, 2, 4, 8, 16],\n    [0, 0, 0, 0, 1],\n])\nA.inv()",
      "metadata": {
        "trusted": true
      },
      "execution_count": 24,
      "outputs": [
        {
          "execution_count": 24,
          "output_type": "execute_result",
          "data": {
            "text/plain": "Matrix([\n[   0,    1,    0,    0,  0],\n[-1/3, -1/2,    1, -1/6,  2],\n[ 1/2,   -1,  1/2,    0, -1],\n[-1/6,  1/2, -1/2,  1/6, -2],\n[   0,    0,    0,    0,  1]])",
            "text/latex": "$\\displaystyle \\left[\\begin{matrix}0 & 1 & 0 & 0 & 0\\\\- \\frac{1}{3} & - \\frac{1}{2} & 1 & - \\frac{1}{6} & 2\\\\\\frac{1}{2} & -1 & \\frac{1}{2} & 0 & -1\\\\- \\frac{1}{6} & \\frac{1}{2} & - \\frac{1}{2} & \\frac{1}{6} & -2\\\\0 & 0 & 0 & 0 & 1\\end{matrix}\\right]$"
          },
          "metadata": {}
        }
      ]
    },
    {
      "cell_type": "code",
      "source": "from sympy import Rational as R\n\ndef lagrange_interpolate_coeffs_at_n1_0_1_2_with_leading_term_v1(y_n1, y0, y1, y2, c4):\n    A_inv = Matrix([\n        [0, 1, 0, 0, 0],\n        [R(-1, 3), R(-1, 2), 1, R(-1, 6), 2],\n        [R(1, 2), -1, R(1, 2), 0, -1],\n        [R(-1, 6), R(1, 2), R(-1, 2), R(1, 6), -2],\n        [0, 0, 0, 0, 1],\n    ])\n    b = Matrix([y_n1, y0, y1, y2, c4])\n    return A_inv * b\n\ndef toom_cook_mult3x3_poly_v4(a, b):\n    a_n1 = a[0] - a[1] + a[2]\n    b_n1 = b[0] - b[1] + b[2]\n    a_0 = a[0]\n    b_0 = b[0]\n    a_1 = a[0] + a[1] + a[2]\n    b_1 = b[0] + b[1] + b[2]\n    a_2 = a[0] + 2*a[1] + 4*a[2]\n    b_2 = b[0] + 2*b[1] + 4*b[2]\n    \n    c_n1 = a_n1 * b_n1\n    c_0 = a_0 * b_0\n    c_1 = a_1 * b_1\n    c_2 = a_2 * b_2\n    \n    c4 = a[2] * b[2]\n    \n    return lagrange_interpolate_coeffs_at_n1_0_1_2_with_leading_term_v1(c_n1, c_0, c_1, c_2, c4)",
      "metadata": {
        "trusted": true
      },
      "execution_count": 25,
      "outputs": []
    },
    {
      "cell_type": "code",
      "source": "toom_cook_mult3x3_poly_v4([3, 2, 1], [6, 5, 4])",
      "metadata": {
        "trusted": true
      },
      "execution_count": 26,
      "outputs": [
        {
          "execution_count": 26,
          "output_type": "execute_result",
          "data": {
            "text/plain": "Matrix([\n[18],\n[27],\n[28],\n[13],\n[ 4]])",
            "text/latex": "$\\displaystyle \\left[\\begin{matrix}18\\\\27\\\\28\\\\13\\\\4\\end{matrix}\\right]$"
          },
          "metadata": {}
        }
      ]
    },
    {
      "cell_type": "code",
      "source": "def toom_cook_mult3x3_poly_v5(a, b):\n    a_n1 = a[0] - a[1] + a[2]\n    b_n1 = b[0] - b[1] + b[2]\n    a_0 = a[0]\n    b_0 = b[0]\n    a_1 = a[0] + a[1] + a[2]\n    b_1 = b[0] + b[1] + b[2]\n    a_2 = a[0] + 2*a[1] + 4*a[2]\n    b_2 = b[0] + 2*b[1] + 4*b[2]\n    \n    c_n1 = a_n1 * b_n1\n    c_0 = a_0 * b_0\n    c_1 = a_1 * b_1\n    c_2 = a_2 * b_2\n    \n    c4 = a[2] * b[2]\n    \n    A_inv = Matrix([\n        [0, 1, 0, 0, 0],\n        [R(-1, 3), R(-1, 2), 1, R(-1, 6), 2],\n        [R(1, 2), -1, R(1, 2), 0, -1],\n        [R(-1, 6), R(1, 2), R(-1, 2), R(1, 6), -2],\n        [0, 0, 0, 0, 1],\n    ])\n    b = Matrix([c_n1, c_0, c_1, c_2, c4])\n    return A_inv * b\n\ntoom_cook_mult3x3_poly_v5([3, 2, 1], [6, 5, 4])",
      "metadata": {
        "trusted": true
      },
      "execution_count": 27,
      "outputs": [
        {
          "execution_count": 27,
          "output_type": "execute_result",
          "data": {
            "text/plain": "Matrix([\n[18],\n[27],\n[28],\n[13],\n[ 4]])",
            "text/latex": "$\\displaystyle \\left[\\begin{matrix}18\\\\27\\\\28\\\\13\\\\4\\end{matrix}\\right]$"
          },
          "metadata": {}
        }
      ]
    },
    {
      "cell_type": "code",
      "source": "def toom_cook_mult3x3_poly_v6(a, b):\n    a_n1 = a[0] - a[1] + a[2]\n    b_n1 = b[0] - b[1] + b[2]\n    a_0 = a[0]\n    b_0 = b[0]\n    a_1 = a[0] + a[1] + a[2]\n    b_1 = b[0] + b[1] + b[2]\n    a_2 = a[0] + 2*a[1] + 4*a[2]\n    b_2 = b[0] + 2*b[1] + 4*b[2]\n    \n    c_n1 = a_n1 * b_n1\n    c_0 = a_0 * b_0\n    c_1 = a_1 * b_1\n    c_2 = a_2 * b_2\n    \n    c4 = a[2] * b[2]\n    \n    c1 = R(-c_n1, 3) + R(-c_0, 2) + c_1 + R(-c_2, 6) + 2*c4\n    c2 = R(c_n1, 2) - c_0 + R(c_1, 2) - c4\n    c3 = R(-c_n1, 6) + R(c_0, 2) + R(-c_1, 2) + R(c_2, 6) - 2*c4\n    return [c_0, c1, c2, c3, c4]\n\ntoom_cook_mult3x3_poly_v6([3, 2, 1], [6, 5, 4])",
      "metadata": {
        "trusted": true
      },
      "execution_count": 28,
      "outputs": [
        {
          "execution_count": 28,
          "output_type": "execute_result",
          "data": {
            "text/plain": "[18, 27, 28, 13, 4]"
          },
          "metadata": {}
        }
      ]
    },
    {
      "cell_type": "code",
      "source": "def toom_cook_mult3x3_poly_v7(a, b):\n    a_n1 = a[0] - a[1] + a[2]\n    b_n1 = b[0] - b[1] + b[2]\n    a_0 = a[0]\n    b_0 = b[0]\n    a_1 = a[0] + a[1] + a[2]\n    b_1 = b[0] + b[1] + b[2]\n    a_2 = a[0] + 2*a[1] + 4*a[2]\n    b_2 = b[0] + 2*b[1] + 4*b[2]\n    \n    c_n1 = a_n1 * b_n1\n    c_0 = a_0 * b_0\n    c_1 = a_1 * b_1\n    c_2 = a_2 * b_2\n    \n    c4 = a[2] * b[2]\n    \n    c_0_half = R(c_0, 2)\n    c_1_half = R(c_1, 2)\n    t0 = R(c_2, 6) - 2*c4\n    \n    c1 = -c_0_half - R(c_n1, 3) + c_1 - t0\n    c2 = R(c_n1, 2) - c_0 + c_1_half - c4\n    c3 = c_0_half - R(c_n1, 6) - c_1_half + t0\n    return [c_0, c1, c2, c3, c4]\n\ntoom_cook_mult3x3_poly_v7([3, 2, 1], [6, 5, 4])",
      "metadata": {
        "trusted": true
      },
      "execution_count": 29,
      "outputs": [
        {
          "execution_count": 29,
          "output_type": "execute_result",
          "data": {
            "text/plain": "[18, 27, 28, 13, 4]"
          },
          "metadata": {}
        }
      ]
    },
    {
      "cell_type": "code",
      "source": "def toom_cook_mult3x3_poly_v8(a, b):\n    a_n1 = a[0] - a[1] + a[2]\n    b_n1 = b[0] - b[1] + b[2]\n    a_0 = a[0]\n    b_0 = b[0]\n    a_1 = a[0] + a[1] + a[2]\n    b_1 = b[0] + b[1] + b[2]\n    a_2 = a[0] + 2*a[1] + 4*a[2]\n    b_2 = b[0] + 2*b[1] + 4*b[2]\n    \n    c_n1 = a_n1 * b_n1\n    c_0 = a_0 * b_0\n    c_1 = a_1 * b_1\n    c_2 = a_2 * b_2\n    \n    c4 = a[2] * b[2]\n    \n    t1 = R(3*c_0 + 2 * c_n1 + c_2, 6) - 2*c4\n    t2 = R(c_1 + c_n1, 2)\n    \n    c1 = c_1 - t1\n    c2 = t2 - c_0 - c4\n    c3 = t1 - t2\n    return [c_0, c1, c2, c3, c4]\n\ntoom_cook_mult3x3_poly_v8([3, 2, 1], [6, 5, 4])",
      "metadata": {
        "trusted": true
      },
      "execution_count": 30,
      "outputs": [
        {
          "execution_count": 30,
          "output_type": "execute_result",
          "data": {
            "text/plain": "[18, 27, 28, 13, 4]"
          },
          "metadata": {}
        }
      ]
    },
    {
      "cell_type": "code",
      "source": "def toom_cook_mult3x3_poly_mca(a, b):\n    a02 = a[0] + a[2]\n    b02 = b[0] + b[2]\n    a_n1 = a02 - a[1]\n    b_n1 = b02 - b[1]\n    a_0 = a[0]\n    b_0 = b[0]\n    a_1 = a02 + a[1]\n    b_1 = b02 + b[1]\n    a_2 = a[0] + 2*a[1] + 4*a[2]\n    b_2 = b[0] + 2*b[1] + 4*b[2]\n    \n    c_n1 = a_n1 * b_n1\n    c_0 = a_0 * b_0\n    c_1 = a_1 * b_1\n    c_2 = a_2 * b_2\n    \n    c4 = a[2] * b[2]\n    \n    t1 = R(3*c_0 + 2*c_n1 + c_2, 6) - 2*c4\n    t2 = R(c_1 + c_n1, 2)\n    \n    c1 = c_1 - t1\n    c2 = t2 - c_0 - c4\n    c3 = t1 - t2\n    return [c_0, c1, c2, c3, c4]\n\ntoom_cook_mult3x3_poly_mca([3, 2, 1], [6, 5, 4])",
      "metadata": {
        "trusted": true
      },
      "execution_count": 32,
      "outputs": [
        {
          "execution_count": 32,
          "output_type": "execute_result",
          "data": {
            "text/plain": "[18, 27, 28, 13, 4]"
          },
          "metadata": {}
        }
      ]
    },
    {
      "cell_type": "code",
      "source": "",
      "metadata": {},
      "execution_count": null,
      "outputs": []
    }
  ]
}